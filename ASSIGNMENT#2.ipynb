{
 "cells": [
  {
   "cell_type": "code",
   "execution_count": 2,
   "metadata": {},
   "outputs": [
    {
     "name": "stdout",
     "output_type": "stream",
     "text": [
      "Enter your inputs:5\n",
      "Enter your marks:66\n",
      "66\n",
      "Enter your marks:88\n",
      "154\n",
      "Enter your marks:77\n",
      "231\n",
      "Enter your marks:88\n",
      "319\n",
      "Enter your marks:55\n",
      "374\n",
      "74.8\n",
      "your grade is A\n"
     ]
    }
   ],
   "source": [
    "#QUESTION _1 \n",
    "marks=0\n",
    "x=int(input(\"Enter your inputs:\"))\n",
    "for i in range(x):\n",
    "    z=int(input(\"Enter your marks:\"))\n",
    "    marks=marks+z\n",
    "    print(marks)\n",
    "    per=(marks/500)*100\n",
    "print(per)\n",
    "if per>=80:\n",
    "    print(\"your grade is A+\")\n",
    "elif per>=70 and per<80:\n",
    "    print(\"your grade is A\")\n",
    "elif per>=60 and per<70:\n",
    "    print(\"your grade is B\")\n",
    "elif per>=50 and per<60:\n",
    "    print(\" your grade is C\")\n",
    "else:\n",
    "    print(\"Fail\")"
   ]
  },
  {
   "cell_type": "code",
   "execution_count": 3,
   "metadata": {},
   "outputs": [
    {
     "name": "stdout",
     "output_type": "stream",
     "text": [
      "Enter number:6\n",
      "Number is even\n"
     ]
    }
   ],
   "source": [
    "#QUESTION 2\n",
    "x=int(input(\"Enter number:\"))\n",
    "if x%2==0  :\n",
    "    print(\"Number is even\")\n",
    "else:\n",
    "    print(\"Number is odd\")"
   ]
  },
  {
   "cell_type": "code",
   "execution_count": 4,
   "metadata": {},
   "outputs": [
    {
     "name": "stdout",
     "output_type": "stream",
     "text": [
      "Length of your list is  4\n"
     ]
    }
   ],
   "source": [
    "#QUESTION 3\n",
    "L=[7,2,5,6]\n",
    "print(\"Length of your list is \",len(L))"
   ]
  },
  {
   "cell_type": "code",
   "execution_count": 5,
   "metadata": {},
   "outputs": [
    {
     "name": "stdout",
     "output_type": "stream",
     "text": [
      "sum:  20\n"
     ]
    }
   ],
   "source": [
    "#QUESTION 4\n",
    "L=[7,2,5,6]\n",
    "print(\"sum: \",sum(L))"
   ]
  },
  {
   "cell_type": "code",
   "execution_count": 6,
   "metadata": {},
   "outputs": [
    {
     "name": "stdout",
     "output_type": "stream",
     "text": [
      "largest number in L is:  7\n"
     ]
    }
   ],
   "source": [
    "#Question 5\n",
    "L=[7,2,5,6]\n",
    "print(\"largest number in L is: \",max(L))"
   ]
  },
  {
   "cell_type": "code",
   "execution_count": 7,
   "metadata": {},
   "outputs": [
    {
     "name": "stdout",
     "output_type": "stream",
     "text": [
      "1\n",
      "1\n",
      "2\n",
      "3\n"
     ]
    }
   ],
   "source": [
    "#QUESTION 6\n",
    "L=[1,1,2,3,5,8,13,21,34,55,89]\n",
    "for x in L:\n",
    "    if x<5:\n",
    "        print(x)"
   ]
  },
  {
   "cell_type": "code",
   "execution_count": null,
   "metadata": {},
   "outputs": [],
   "source": []
  }
 ],
 "metadata": {
  "kernelspec": {
   "display_name": "Python 3",
   "language": "python",
   "name": "python3"
  },
  "language_info": {
   "codemirror_mode": {
    "name": "ipython",
    "version": 3
   },
   "file_extension": ".py",
   "mimetype": "text/x-python",
   "name": "python",
   "nbconvert_exporter": "python",
   "pygments_lexer": "ipython3",
   "version": "3.6.7"
  }
 },
 "nbformat": 4,
 "nbformat_minor": 2
}
