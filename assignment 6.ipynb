{
 "cells": [
  {
   "cell_type": "code",
   "execution_count": 1,
   "metadata": {},
   "outputs": [
    {
     "name": "stdout",
     "output_type": "stream",
     "text": [
      "enter namecar one\n",
      "pink 1 car one auto 111xcx\n",
      "enter modelcar model two\n",
      "pink 2 abcd auto car model two\n",
      "pink 3 abce auto 333xcx\n",
      "pink 4 abcf auto 444xcx\n",
      "pink 5 abcf auto 555xcx\n"
     ]
    }
   ],
   "source": [
    "#Q U E S T I O N _ 5\n",
    "\n",
    "class car:\n",
    "    def __init__(self,color,price,name,engine,model):\n",
    "        self.color=color\n",
    "        self.price=price\n",
    "        self.name=name\n",
    "        self.engine=engine\n",
    "        self.model=model\n",
    "    def changename(self):\n",
    "        self.name=input('enter name')\n",
    "    def changemodel(self):\n",
    "        self.model=input('enter model')\n",
    "    def print(self):\n",
    "        print(self.color,self.price,self.name,self.engine,self.model)\n",
    "        \n",
    "a=car('pink','1','abc','auto','111xcx')\n",
    "a.changename()\n",
    "a.print()\n",
    "\n",
    "b=car('pink','2','abcd','auto','222xcx')\n",
    "b.changemodel()\n",
    "b.print()\n",
    "\n",
    "c=car('pink','3','abce','auto','333xcx')\n",
    "c.print()\n",
    "\n",
    "d=car('pink','4','abcf','auto','444xcx')\n",
    "d.print()\n",
    "\n",
    "e=car('pink','5','abcf','auto','555xcx')\n",
    "e.print()"
   ]
  },
  {
   "cell_type": "code",
   "execution_count": null,
   "metadata": {},
   "outputs": [],
   "source": [
    "\n",
    "# Q U E S T I O N _ 1\n",
    "\n",
    "Object-oriented programming  refers to a type of computer programming  in which programmers define the\n",
    "data type of a data structure and also the types of operations  that can be applied to the data structure.\n",
    "\n",
    "\n",
    "# Q U E S T I O N _ 2\n",
    "\n",
    "1. Re-usability\n",
    "2. Data Redundancy\n",
    "3. Code Maintenance\n",
    "4. Security\n",
    "5. Design Benefits\n",
    "7. Easy troubleshooting\n",
    "8. Polymorphism Flexibility\n",
    "\n",
    "\n",
    "# Q U E S T I O N _ 3\n",
    "\n",
    "Unlike a function, methods are called on an object. Like in our example above we call our method .i.e. my_method on the\n",
    "object cat whereas the function sum is called without any object. Also, because the method is called on an object,\n",
    "it can access that data within it.\n",
    "\n",
    "\n",
    "\n",
    "# Q U E S T I O N _ 4\n",
    "\n",
    "\n",
    "CLASS:\n",
    "A class is a user defined blueprint or prototype from which objects are created. It represents the set of properties or methods\n",
    "that are common to all objects of one type.\n",
    "OBJECT: \n",
    "Object is simply a collection of data and methods that act on those data. And, class is a blueprint\n",
    "for the object.\n",
    "ATTRIBUTE:\n",
    "Everything in Python is an object, and almost everything has attributes and methods. In python, functions too are objects.\n",
    "So they have attributes like other objects. \n",
    "BEHAVIOUR:\n",
    "Objects in Python are generally classified according to their behaviors and the features that they implement."
   ]
  }
 ],
 "metadata": {
  "kernelspec": {
   "display_name": "Python 3",
   "language": "python",
   "name": "python3"
  },
  "language_info": {
   "codemirror_mode": {
    "name": "ipython",
    "version": 3
   },
   "file_extension": ".py",
   "mimetype": "text/x-python",
   "name": "python",
   "nbconvert_exporter": "python",
   "pygments_lexer": "ipython3",
   "version": "3.6.7"
  }
 },
 "nbformat": 4,
 "nbformat_minor": 2
}
