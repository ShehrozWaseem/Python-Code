{
 "cells": [
  {
   "cell_type": "code",
   "execution_count": 2,
   "metadata": {},
   "outputs": [
    {
     "name": "stdout",
     "output_type": "stream",
     "text": [
      "Twinkle, twinkle, little star,\n",
      "\tHow I wonder what you are!\n",
      "\t\tUp above the world so high,\n",
      "\t\tLike a diamond in the sky.\n",
      "Twinkle, twinkle, little star,\n",
      "\tHow I wonder what you are \n"
     ]
    }
   ],
   "source": [
    "#QUESTION # 1\n",
    "print(\"Twinkle, twinkle, little star,\\n\\tHow I wonder what you are!\\n\\t\\tUp above the world so high,\\n\\t\\tLike a diamond in the sky.\\nTwinkle, twinkle, little star,\\n\\tHow I wonder what you are \")\n"
   ]
  },
  {
   "cell_type": "code",
   "execution_count": 4,
   "metadata": {},
   "outputs": [
    {
     "name": "stdout",
     "output_type": "stream",
     "text": [
      "ver 3.6.7 | packaged by conda-forge | (default, Feb 28 2019, 09:07:38) \n",
      "[GCC 7.3.0]\n"
     ]
    }
   ],
   "source": [
    "#QUESTION # 2\n",
    "import sys\n",
    "print(\"ver\",sys.version)\n"
   ]
  },
  {
   "cell_type": "code",
   "execution_count": 5,
   "metadata": {},
   "outputs": [
    {
     "name": "stdout",
     "output_type": "stream",
     "text": [
      "today is 2019-11-04 14:53:43.871014\n"
     ]
    }
   ],
   "source": [
    "#QUESTION # 3\n",
    "from datetime import datetime\n",
    "now=datetime.now()\n",
    "print(\"today is\",now)"
   ]
  },
  {
   "cell_type": "code",
   "execution_count": 6,
   "metadata": {},
   "outputs": [
    {
     "name": "stdout",
     "output_type": "stream",
     "text": [
      "enter the radius:6\n",
      "THE AREA IS 113.09733552923255\n"
     ]
    }
   ],
   "source": [
    "#QUESTION # 4\n",
    "import math\n",
    "RAD=int(input(\"enter the radius:\"))\n",
    "result=math.pi*(RAD**2)\n",
    "print(\"THE AREA IS\",result)"
   ]
  },
  {
   "cell_type": "code",
   "execution_count": 10,
   "metadata": {},
   "outputs": [
    {
     "name": "stdout",
     "output_type": "stream",
     "text": [
      "enter yourfirst name :SHEHROZ\n",
      "enter your last name :WASEEM\n",
      "your result is :  WASEEM SHEHROZ\n"
     ]
    }
   ],
   "source": [
    "#QUESTION # 5\n",
    "first_name=input(\"enter yourfirst name :\")\n",
    "last_name=input(\"enter your last name :\")\n",
    "print(\"your result is : \",last_name+\" \"+first_name)"
   ]
  },
  {
   "cell_type": "code",
   "execution_count": 11,
   "metadata": {},
   "outputs": [
    {
     "name": "stdout",
     "output_type": "stream",
     "text": [
      "enter your frst number :7\n",
      "enter your second number :8\n",
      "the sum of two number is 15\n"
     ]
    }
   ],
   "source": [
    "#QUESTION # 6\n",
    "num1=int(input(\"enter your frst number :\"))\n",
    "num2=int(input(\"enter your second number :\"))\n",
    "sum=num1 + num2\n",
    "print(\"the sum of two number is\",sum)"
   ]
  },
  {
   "cell_type": "code",
   "execution_count": null,
   "metadata": {},
   "outputs": [],
   "source": []
  }
 ],
 "metadata": {
  "kernelspec": {
   "display_name": "Python 3",
   "language": "python",
   "name": "python3"
  },
  "language_info": {
   "codemirror_mode": {
    "name": "ipython",
    "version": 3
   },
   "file_extension": ".py",
   "mimetype": "text/x-python",
   "name": "python",
   "nbconvert_exporter": "python",
   "pygments_lexer": "ipython3",
   "version": "3.6.7"
  }
 },
 "nbformat": 4,
 "nbformat_minor": 2
}
